{
 "cells": [
  {
   "cell_type": "markdown",
   "metadata": {
    "slideshow": {
     "slide_type": "-"
    }
   },
   "source": [
    "# PUC-MG - Trabalho de Conclusão de Curso\n",
    "\n",
    "## Especialização em Inteligência Artificial e Aprendizado de Máquina - 2019/2020\n",
    "\n",
    "### Aluno: Geraldo Tonato Leite\n",
    "### Título: Identificação de emoções em textos escritos em português do Brasil"
   ]
  },
  {
   "cell_type": "markdown",
   "metadata": {},
   "source": [
    "## Bibliotecas"
   ]
  },
  {
   "cell_type": "code",
   "execution_count": 51,
   "metadata": {},
   "outputs": [],
   "source": [
    "#Manipulação e Análise\n",
    "import pandas as pd\n",
    "\n",
    "#NLP\n",
    "import nltk\n",
    "import re\n",
    "from unicodedata import normalize\n",
    "from nltk.tokenize import RegexpTokenizer\n",
    "from nltk.corpus import stopwords\n",
    "\n",
    "#Vetorização de texto\n",
    "from sklearn.feature_extraction.text import TfidfVectorizer\n"
   ]
  },
  {
   "cell_type": "code",
   "execution_count": 52,
   "metadata": {},
   "outputs": [],
   "source": [
    "#Classificadores testados / utilizados\n",
    "from sklearn.linear_model import SGDClassifier\n",
    "from sklearn.neural_network import MLPClassifier\n",
    "from sklearn.linear_model import LogisticRegression\n",
    "\n",
    "#Utilitários SKlearn\n",
    "from sklearn.model_selection import train_test_split\n",
    "from sklearn.model_selection import StratifiedKFold\n",
    "from sklearn.model_selection import KFold\n",
    "from sklearn.model_selection import cross_validate\n",
    "from sklearn.model_selection import RandomizedSearchCV\n",
    "\n",
    "#Métricas e estatísticas\n",
    "from sklearn import metrics\n",
    "import statistics\n",
    "from sklearn.metrics import f1_score\n",
    "from sklearn.metrics import accuracy_score\n",
    "\n",
    "from scipy.stats import uniform\n",
    "import numpy as np\n",
    "\n",
    "#gráficos\n",
    "import matplotlib.pyplot as plt"
   ]
  },
  {
   "cell_type": "code",
   "execution_count": 53,
   "metadata": {},
   "outputs": [],
   "source": [
    "#Prepara para retirar stopwords e 'stematizar' em portugues\n",
    "stop_words=set(stopwords.words('portuguese'))\n",
    "stemmer = nltk.stem.RSLPStemmer()\n",
    "\n",
    "# Tokenizador: utilizado para separar uma frase em palavras\n",
    "tokenizer = RegexpTokenizer(r'\\w+')\n",
    "\n",
    "# Semente aleatória usada neste notebook, para garantir reprodutibilidade de resultados\n",
    "random_state=501\n"
   ]
  },
  {
   "cell_type": "markdown",
   "metadata": {},
   "source": [
    "## Funções"
   ]
  },
  {
   "cell_type": "code",
   "execution_count": 54,
   "metadata": {},
   "outputs": [],
   "source": [
    "# limpeza do texto\n",
    "\n",
    "def limpar_texto(texto):\n",
    "    # Converte para minúsculas\n",
    "    texto = texto.lower()\n",
    "  \n",
    "    # Remove acentos\n",
    "    texto = normalize('NFKD', texto).encode('ASCII', 'ignore').decode('ASCII')\n",
    "    \n",
    "    # Remove caracteres especiais e números\n",
    "    texto = re.sub(r'[^a-zA-Z_]',' ',texto)\n",
    "  \n",
    "    # Remove espaços extras, palavras pequenas, stopwords e realiza o stemming\n",
    "    tokens = tokenizer.tokenize(texto)\n",
    "    tokens = [stemmer.stem(palavra) for palavra in tokens if (len(palavra) >= 3 and palavra not in stop_words)]   \n",
    "    texto = ' '.join(tokens)  \n",
    "\n",
    "    return texto"
   ]
  },
  {
   "cell_type": "code",
   "execution_count": 55,
   "metadata": {},
   "outputs": [],
   "source": [
    "#Imprime o valor no gráfico de barras\n",
    "def autolabel(rects):\n",
    "\n",
    "    for rect in rects:\n",
    "        height = rect.get_height()\n",
    "        plt.annotate('{0:.4f}'.format(height),\n",
    "                    xy=(rect.get_x() + rect.get_width() / 2, height),\n",
    "                    xytext=(0, 3),  # 3 points vertical offset\n",
    "                    textcoords=\"offset points\",\n",
    "                    ha='center', va='bottom')\n"
   ]
  },
  {
   "cell_type": "markdown",
   "metadata": {},
   "source": [
    "## Carregando os dados rotulados"
   ]
  },
  {
   "cell_type": "code",
   "execution_count": 56,
   "metadata": {
    "scrolled": true
   },
   "outputs": [
    {
     "name": "stdout",
     "output_type": "stream",
     "text": [
      "Total de registros carregados: 1700\n"
     ]
    },
    {
     "data": {
      "text/html": [
       "<div>\n",
       "<style scoped>\n",
       "    .dataframe tbody tr th:only-of-type {\n",
       "        vertical-align: middle;\n",
       "    }\n",
       "\n",
       "    .dataframe tbody tr th {\n",
       "        vertical-align: top;\n",
       "    }\n",
       "\n",
       "    .dataframe thead th {\n",
       "        text-align: right;\n",
       "    }\n",
       "</style>\n",
       "<table border=\"1\" class=\"dataframe\">\n",
       "  <thead>\n",
       "    <tr style=\"text-align: right;\">\n",
       "      <th></th>\n",
       "      <th>id</th>\n",
       "      <th>texto</th>\n",
       "      <th>classe</th>\n",
       "    </tr>\n",
       "  </thead>\n",
       "  <tbody>\n",
       "    <tr>\n",
       "      <th>1690</th>\n",
       "      <td>1676</td>\n",
       "      <td>navio mercante encontra peça em área de buscas...</td>\n",
       "      <td>tristeza</td>\n",
       "    </tr>\n",
       "    <tr>\n",
       "      <th>1691</th>\n",
       "      <td>193</td>\n",
       "      <td>cozinha de restaurante argentino pega fogo em ...</td>\n",
       "      <td>medo</td>\n",
       "    </tr>\n",
       "    <tr>\n",
       "      <th>1692</th>\n",
       "      <td>1582</td>\n",
       "      <td>xarope com produto tóxico teria matado 24 cria...</td>\n",
       "      <td>tristeza</td>\n",
       "    </tr>\n",
       "    <tr>\n",
       "      <th>1693</th>\n",
       "      <td>468</td>\n",
       "      <td>com financiamento coletivo, brasileira reforma...</td>\n",
       "      <td>alegria</td>\n",
       "    </tr>\n",
       "    <tr>\n",
       "      <th>1694</th>\n",
       "      <td>1109</td>\n",
       "      <td>enterro de paulo goulart será no início da tar...</td>\n",
       "      <td>tristeza</td>\n",
       "    </tr>\n",
       "    <tr>\n",
       "      <th>1695</th>\n",
       "      <td>8</td>\n",
       "      <td>polícia encontra cocaína escondida em boneco d...</td>\n",
       "      <td>surpresa</td>\n",
       "    </tr>\n",
       "    <tr>\n",
       "      <th>1696</th>\n",
       "      <td>1953</td>\n",
       "      <td>domingo no tca traz espetáculo cômico a r$ 1. ...</td>\n",
       "      <td>alegria</td>\n",
       "    </tr>\n",
       "    <tr>\n",
       "      <th>1697</th>\n",
       "      <td>864</td>\n",
       "      <td>mil desalojados dividem 4 chuveiros em abrigo ...</td>\n",
       "      <td>tristeza</td>\n",
       "    </tr>\n",
       "    <tr>\n",
       "      <th>1698</th>\n",
       "      <td>1498</td>\n",
       "      <td>manifestantes fazem ato contra reunião do g8 n...</td>\n",
       "      <td>desgosto</td>\n",
       "    </tr>\n",
       "    <tr>\n",
       "      <th>1699</th>\n",
       "      <td>1946</td>\n",
       "      <td>gurgel confirma existência do mensalão e apont...</td>\n",
       "      <td>raiva</td>\n",
       "    </tr>\n",
       "  </tbody>\n",
       "</table>\n",
       "</div>"
      ],
      "text/plain": [
       "        id                                              texto    classe\n",
       "1690  1676  navio mercante encontra peça em área de buscas...  tristeza\n",
       "1691   193  cozinha de restaurante argentino pega fogo em ...      medo\n",
       "1692  1582  xarope com produto tóxico teria matado 24 cria...  tristeza\n",
       "1693   468  com financiamento coletivo, brasileira reforma...   alegria\n",
       "1694  1109  enterro de paulo goulart será no início da tar...  tristeza\n",
       "1695     8  polícia encontra cocaína escondida em boneco d...  surpresa\n",
       "1696  1953  domingo no tca traz espetáculo cômico a r$ 1. ...   alegria\n",
       "1697   864  mil desalojados dividem 4 chuveiros em abrigo ...  tristeza\n",
       "1698  1498  manifestantes fazem ato contra reunião do g8 n...  desgosto\n",
       "1699  1946  gurgel confirma existência do mensalão e apont...     raiva"
      ]
     },
     "execution_count": 56,
     "metadata": {},
     "output_type": "execute_result"
    }
   ],
   "source": [
    "df = pd.read_csv('treino.csv')\n",
    "print('Total de registros carregados:',len(df))\n",
    "# Exibe uma amostra dos dados\n",
    "df.tail(10)"
   ]
  },
  {
   "cell_type": "code",
   "execution_count": 57,
   "metadata": {
    "scrolled": true
   },
   "outputs": [
    {
     "data": {
      "text/html": [
       "<div>\n",
       "<style scoped>\n",
       "    .dataframe tbody tr th:only-of-type {\n",
       "        vertical-align: middle;\n",
       "    }\n",
       "\n",
       "    .dataframe tbody tr th {\n",
       "        vertical-align: top;\n",
       "    }\n",
       "\n",
       "    .dataframe thead th {\n",
       "        text-align: right;\n",
       "    }\n",
       "</style>\n",
       "<table border=\"1\" class=\"dataframe\">\n",
       "  <thead>\n",
       "    <tr style=\"text-align: right;\">\n",
       "      <th></th>\n",
       "      <th>id</th>\n",
       "      <th>texto</th>\n",
       "    </tr>\n",
       "    <tr>\n",
       "      <th>classe</th>\n",
       "      <th></th>\n",
       "      <th></th>\n",
       "    </tr>\n",
       "  </thead>\n",
       "  <tbody>\n",
       "    <tr>\n",
       "      <th>alegria</th>\n",
       "      <td>156</td>\n",
       "      <td>156</td>\n",
       "    </tr>\n",
       "    <tr>\n",
       "      <th>desgosto</th>\n",
       "      <td>223</td>\n",
       "      <td>223</td>\n",
       "    </tr>\n",
       "    <tr>\n",
       "      <th>medo</th>\n",
       "      <td>189</td>\n",
       "      <td>189</td>\n",
       "    </tr>\n",
       "    <tr>\n",
       "      <th>neutro</th>\n",
       "      <td>461</td>\n",
       "      <td>461</td>\n",
       "    </tr>\n",
       "    <tr>\n",
       "      <th>raiva</th>\n",
       "      <td>70</td>\n",
       "      <td>70</td>\n",
       "    </tr>\n",
       "    <tr>\n",
       "      <th>surpresa</th>\n",
       "      <td>214</td>\n",
       "      <td>214</td>\n",
       "    </tr>\n",
       "    <tr>\n",
       "      <th>tristeza</th>\n",
       "      <td>387</td>\n",
       "      <td>387</td>\n",
       "    </tr>\n",
       "  </tbody>\n",
       "</table>\n",
       "</div>"
      ],
      "text/plain": [
       "           id  texto\n",
       "classe              \n",
       "alegria   156    156\n",
       "desgosto  223    223\n",
       "medo      189    189\n",
       "neutro    461    461\n",
       "raiva      70     70\n",
       "surpresa  214    214\n",
       "tristeza  387    387"
      ]
     },
     "execution_count": 57,
     "metadata": {},
     "output_type": "execute_result"
    }
   ],
   "source": [
    "# Distribuição das classes nos dados fornecidos\n",
    "df.groupby('classe').count()"
   ]
  },
  {
   "cell_type": "markdown",
   "metadata": {},
   "source": [
    "## Explorando o dataset e preparando os textos para classificação"
   ]
  },
  {
   "cell_type": "code",
   "execution_count": 58,
   "metadata": {},
   "outputs": [
    {
     "name": "stdout",
     "output_type": "stream",
     "text": [
      "Média do tamanho dos textos (em palavras): 31.29 \n",
      "Mediana do tamanho dos textos (em palavras): 31.00 \n",
      "Desvio padrão do tamanho dos textos (em palavras): 6.83\n"
     ]
    }
   ],
   "source": [
    "#Métricas do tamanho dos textos antes da limpeza e tratamento\n",
    "tam_texto=[]\n",
    "for texto in df['texto']:\n",
    "    tam_texto.append(len(tokenizer.tokenize(texto)))\n",
    "print(\"Média do tamanho dos textos (em palavras): {0:.2f} \".format(statistics.mean(tam_texto)))\n",
    "print(\"Mediana do tamanho dos textos (em palavras): {0:.2f} \".format(statistics.median(tam_texto)))\n",
    "print(\"Desvio padrão do tamanho dos textos (em palavras): {0:.2f}\".format(statistics.stdev(tam_texto)))"
   ]
  },
  {
   "cell_type": "code",
   "execution_count": 59,
   "metadata": {},
   "outputs": [
    {
     "data": {
      "image/png": "[encoded data removed]",
      "text/plain": [
       "<Figure size 432x288 with 1 Axes>"
      ]
     },
     "metadata": {
      "needs_background": "light"
     },
     "output_type": "display_data"
    }
   ],
   "source": [
    "#Histograma do tamanho dos textos (em palavras) antes da limpeza e tratamento\n",
    "plt.hist(tam_texto, bins=40)\n",
    "plt.show()"
   ]
  },
  {
   "cell_type": "code",
   "execution_count": 60,
   "metadata": {
    "scrolled": true
   },
   "outputs": [],
   "source": [
    "#Limpa o texto e monta o vocabulário\n",
    "vocab=set()\n",
    "df['texto'] = df['texto'].apply(limpar_texto)\n",
    "\n",
    "#Monta vocabulário\n",
    "for texto in df['texto']:\n",
    "    vocab.update(set(tokenizer.tokenize(texto)))   "
   ]
  },
  {
   "cell_type": "code",
   "execution_count": 61,
   "metadata": {},
   "outputs": [
    {
     "name": "stdout",
     "output_type": "stream",
     "text": [
      "Média do tamanho dos textos (em palavras): 19.94 \n",
      "Mediana do tamanho dos textos (em palavras): 20.00 \n",
      "Desvio padrão do tamanho dos textos (em palavras): 4.01\n"
     ]
    }
   ],
   "source": [
    "#Métricas do tamanho dos textos depois da limpeza e tratamento\n",
    "tam_texto=[]\n",
    "for texto in df['texto']:\n",
    "    tam_texto.append(len(tokenizer.tokenize(texto)))\n",
    "print(\"Média do tamanho dos textos (em palavras): {0:.2f} \".format(statistics.mean(tam_texto)))\n",
    "print(\"Mediana do tamanho dos textos (em palavras): {0:.2f} \".format(statistics.median(tam_texto)))\n",
    "print(\"Desvio padrão do tamanho dos textos (em palavras): {0:.2f}\".format(statistics.stdev(tam_texto)))"
   ]
  },
  {
   "cell_type": "code",
   "execution_count": 62,
   "metadata": {},
   "outputs": [
    {
     "data": {
      "image/png": "[encoded data removed]",
      "text/plain": [
       "<Figure size 432x288 with 1 Axes>"
      ]
     },
     "metadata": {
      "needs_background": "light"
     },
     "output_type": "display_data"
    }
   ],
   "source": [
    "#Histograma do tamanho dos textos (em palavras) depois da limpeza e tratamento\n",
    "plt.hist(tam_texto, bins=40)\n",
    "plt.show()"
   ]
  },
  {
   "cell_type": "code",
   "execution_count": 63,
   "metadata": {},
   "outputs": [
    {
     "name": "stdout",
     "output_type": "stream",
     "text": [
      "5695\n",
      "['chuv', 'sai', 'supercomput', 'edifici', 'prossegu', 'evolu', 'recontrat', 'exclusa', 'kaiow', 'narcotraf']\n"
     ]
    }
   ],
   "source": [
    "#Tamanho e exemplo do vocabulário\n",
    "print(len(vocab))\n",
    "print(list(vocab)[:10])"
   ]
  },
  {
   "cell_type": "code",
   "execution_count": 64,
   "metadata": {
    "scrolled": false
   },
   "outputs": [
    {
     "name": "stdout",
     "output_type": "stream",
     "text": [
      "Tamanho do Treino: 1360 - Tamanho do Teste: 340\n"
     ]
    }
   ],
   "source": [
    "#Separa dados de treino / teste\n",
    "df_treino, df_teste = train_test_split(df, test_size=0.20, stratify=df['classe'], shuffle=True, random_state=random_state)\n",
    "print('Tamanho do Treino:',len(df_treino),'- Tamanho do Teste:',len(df_teste))"
   ]
  },
  {
   "cell_type": "code",
   "execution_count": 65,
   "metadata": {},
   "outputs": [],
   "source": [
    "#Instancia o vetorizador TF*IDF\n",
    "vectorizer = TfidfVectorizer(ngram_range=(1, 1), vocabulary=vocab,sublinear_tf=True)"
   ]
  },
  {
   "cell_type": "code",
   "execution_count": 66,
   "metadata": {},
   "outputs": [
    {
     "name": "stdout",
     "output_type": "stream",
     "text": [
      "Matriz TF-IDF:  <class 'scipy.sparse.csr.csr_matrix'> (1700, 5695)\n"
     ]
    }
   ],
   "source": [
    "#Vetoriza TF-IDF os dataframes\n",
    "X=vectorizer.fit_transform(df['texto'])\n",
    "y=df['classe']\n",
    "X_treino = vectorizer.fit_transform(df_treino['texto'])\n",
    "y_treino=df_treino['classe']\n",
    "X_teste= vectorizer.fit_transform(df_teste['texto'])\n",
    "y_teste =  df_teste['classe']\n",
    "#Imprime tipo e formato da matriz esparsa\n",
    "print(\"Matriz TF-IDF: \", type(X), X.shape)"
   ]
  },
  {
   "cell_type": "markdown",
   "metadata": {},
   "source": [
    "## Instancia os classificadores SGD, MLP e LR"
   ]
  },
  {
   "cell_type": "code",
   "execution_count": 67,
   "metadata": {
    "scrolled": true
   },
   "outputs": [],
   "source": [
    "clf_SGD = SGDClassifier(loss='modified_huber', penalty='l2', alpha=2e-3, random_state=random_state, max_iter=5, tol=None)\n",
    "clf_MLP= MLPClassifier(solver='lbfgs', alpha=1e-3, hidden_layer_sizes=(70, ), random_state=random_state)\n",
    "clf_LR = LogisticRegression(solver='lbfgs', multi_class='auto', class_weight='balanced', penalty='l2', C=2, random_state=random_state, tol=1e-5)"
   ]
  },
  {
   "cell_type": "markdown",
   "metadata": {},
   "source": [
    "## Roda os classificadores com validação cruzada e avalia métrica alvo (F1 score macro)"
   ]
  },
  {
   "cell_type": "code",
   "execution_count": 68,
   "metadata": {},
   "outputs": [
    {
     "name": "stdout",
     "output_type": "stream",
     "text": [
      "F1-macro: 43.69143 +- 4.06659\n"
     ]
    }
   ],
   "source": [
    "#Roda o SGD Classifier com validação cruzada 10 fold\n",
    "cv = StratifiedKFold(n_splits = 10, shuffle=True, random_state=random_state)\n",
    "results_SGD = cross_validate(clf_SGD, X_treino, y_treino, cv = cv, return_train_score=False, scoring='f1_macro')\n",
    "print(\"F1-macro: {0:.5f} +- {1:.5f}\".format( results_SGD['test_score'].mean()* 100,results_SGD['test_score'].std()* 100 ))"
   ]
  },
  {
   "cell_type": "code",
   "execution_count": 69,
   "metadata": {},
   "outputs": [
    {
     "name": "stdout",
     "output_type": "stream",
     "text": [
      "F1-macro: 43.57803 +- 3.37117\n"
     ]
    }
   ],
   "source": [
    "#Roda o MLP Classifier com validação cruzada 10 fold\n",
    "cv = StratifiedKFold(n_splits = 10, shuffle=True, random_state=random_state)\n",
    "results_MLP = cross_validate(clf_MLP, X_treino, y_treino, cv = cv, return_train_score=False,scoring='f1_macro')\n",
    "print(\"F1-macro: {0:.5f} +- {1:.5f}\".format( results_MLP['test_score'].mean()* 100,results_MLP['test_score'].std()* 100 ))"
   ]
  },
  {
   "cell_type": "code",
   "execution_count": 70,
   "metadata": {},
   "outputs": [
    {
     "name": "stdout",
     "output_type": "stream",
     "text": [
      "F1-macro: 48.73940 +- 4.07137\n"
     ]
    }
   ],
   "source": [
    "#Roda o Logistic Regressor com validação cruzada 10 fold\n",
    "cv = StratifiedKFold(n_splits = 10, shuffle=True, random_state=random_state)\n",
    "results_LR = cross_validate(clf_LR, X_treino, y_treino, cv = cv, return_train_score=False, scoring='f1_macro')\n",
    "print(\"F1-macro: {0:.5f} +- {1:.5f}\".format( results_LR['test_score'].mean()* 100,results_LR['test_score'].std()* 100 ))"
   ]
  },
  {
   "cell_type": "markdown",
   "metadata": {},
   "source": [
    "## Otimização do classificador (regressão logística) com o Random Search"
   ]
  },
  {
   "cell_type": "code",
   "execution_count": 71,
   "metadata": {},
   "outputs": [
    {
     "name": "stdout",
     "output_type": "stream",
     "text": [
      "Melhor modelo:  LogisticRegression(C=0.53933802025739, class_weight='balanced', dual=False,\n",
      "                   fit_intercept=True, intercept_scaling=0.678682297425889,\n",
      "                   l1_ratio=None, max_iter=100, multi_class='auto', n_jobs=None,\n",
      "                   penalty='l2', random_state=501, solver='lbfgs',\n",
      "                   tol=5.892886039498954e-05, verbose=0, warm_start=False)\n",
      "Melhor F1 score:  50.64361750226391\n"
     ]
    }
   ],
   "source": [
    "espaco_de_parametros = {\n",
    "    \"solver\" : ['lbfgs', 'liblinear'],\n",
    "    \"tol\" : uniform(1e-6, 1e-4),\n",
    "    \"C\" : uniform(0, 5),\n",
    "    \"intercept_scaling\" : uniform(0, 2)\n",
    "}\n",
    "busca = RandomizedSearchCV(estimator=LogisticRegression(multi_class='auto', class_weight='balanced', penalty='l2', random_state=random_state),\n",
    "                    param_distributions=espaco_de_parametros,\n",
    "                    n_iter = 64,\n",
    "                    cv = cv,\n",
    "                    scoring='f1_macro',      \n",
    "                    random_state = random_state)\n",
    "busca.fit(X_treino, y_treino)\n",
    "clf_Best= busca.best_estimator_\n",
    "print(\"Melhor modelo: \",clf_Best)\n",
    "print(\"Melhor F1 score: \", busca.best_score_*100)"
   ]
  },
  {
   "cell_type": "code",
   "execution_count": 72,
   "metadata": {},
   "outputs": [
    {
     "name": "stdout",
     "output_type": "stream",
     "text": [
      "F1-macro: 50.64362 +- 3.63217\n"
     ]
    }
   ],
   "source": [
    "#Roda o Logistic Regressor otimizado com o RandomSearch e validação cruzada 10 fold\n",
    "cv = StratifiedKFold(n_splits = 10, shuffle=True, random_state=random_state)\n",
    "results_Best = cross_validate(clf_Best, X_treino, y_treino, cv = cv, return_train_score=False, scoring='f1_macro')\n",
    "print(\"F1-macro: {0:.5f} +- {1:.5f}\".format( results_Best['test_score'].mean()* 100,results_Best['test_score'].std()* 100 ))"
   ]
  },
  {
   "cell_type": "markdown",
   "metadata": {},
   "source": [
    "## Roda e avalia os classificadores com a massa de dados de teste"
   ]
  },
  {
   "cell_type": "code",
   "execution_count": 73,
   "metadata": {},
   "outputs": [
    {
     "name": "stdout",
     "output_type": "stream",
     "text": [
      "              precision    recall  f1-score   support\n",
      "\n",
      "     alegria     0.5000    0.1613    0.2439        31\n",
      "    desgosto     0.5517    0.3556    0.4324        45\n",
      "        medo     0.7500    0.3947    0.5172        38\n",
      "      neutro     0.5915    0.9130    0.7179        92\n",
      "       raiva     0.6250    0.3571    0.4545        14\n",
      "    surpresa     0.5185    0.3256    0.4000        43\n",
      "    tristeza     0.6154    0.8312    0.7072        77\n",
      "\n",
      "    accuracy                         0.5971       340\n",
      "   macro avg     0.5932    0.4769    0.4962       340\n",
      "weighted avg     0.5932    0.5971    0.5610       340\n",
      "\n"
     ]
    }
   ],
   "source": [
    "# Avalia a performance do classificador SGD, usando a massa reservada para testes\n",
    "f1=list()\n",
    "acuracia=list()\n",
    "clf_SGD.fit(X_treino, y_treino)\n",
    "y_predicted = clf_SGD.predict(X_teste)\n",
    "print(metrics.classification_report(y_teste.values,y_predicted,digits=4))\n",
    "f1.append(f1_score(y_teste, y_predicted, average='macro'))\n",
    "acuracia.append(accuracy_score(y_teste, y_predicted))"
   ]
  },
  {
   "cell_type": "code",
   "execution_count": 74,
   "metadata": {},
   "outputs": [
    {
     "name": "stdout",
     "output_type": "stream",
     "text": [
      "              precision    recall  f1-score   support\n",
      "\n",
      "     alegria     0.4615    0.1935    0.2727        31\n",
      "    desgosto     0.5385    0.3111    0.3944        45\n",
      "        medo     0.6667    0.5263    0.5882        38\n",
      "      neutro     0.6457    0.8913    0.7489        92\n",
      "       raiva     0.5000    0.3571    0.4167        14\n",
      "    surpresa     0.4667    0.3256    0.3836        43\n",
      "    tristeza     0.6346    0.8571    0.7293        77\n",
      "\n",
      "    accuracy                         0.6088       340\n",
      "   macro avg     0.5591    0.4946    0.5048       340\n",
      "weighted avg     0.5859    0.6088    0.5763       340\n",
      "\n"
     ]
    }
   ],
   "source": [
    "# Avalia a performance do classificador MLP, usando a massa reservada para testes\n",
    "clf_MLP.fit(X_treino, y_treino)\n",
    "y_predicted = clf_MLP.predict(X_teste)\n",
    "print(metrics.classification_report(y_teste.values,y_predicted,digits=4))\n",
    "f1.append(f1_score(y_teste, y_predicted, average='macro'))\n",
    "acuracia.append(accuracy_score(y_teste, y_predicted))"
   ]
  },
  {
   "cell_type": "code",
   "execution_count": 75,
   "metadata": {},
   "outputs": [
    {
     "name": "stdout",
     "output_type": "stream",
     "text": [
      "              precision    recall  f1-score   support\n",
      "\n",
      "     alegria     0.4348    0.3226    0.3704        31\n",
      "    desgosto     0.4091    0.4000    0.4045        45\n",
      "        medo     0.7407    0.5263    0.6154        38\n",
      "      neutro     0.6786    0.8261    0.7451        92\n",
      "       raiva     0.3529    0.4286    0.3871        14\n",
      "    surpresa     0.6000    0.4186    0.4932        43\n",
      "    tristeza     0.6667    0.7532    0.7073        77\n",
      "\n",
      "    accuracy                         0.6059       340\n",
      "   macro avg     0.5547    0.5251    0.5318       340\n",
      "weighted avg     0.6016    0.6059    0.5962       340\n",
      "\n"
     ]
    }
   ],
   "source": [
    "# Avalia a performance do classificador LR, usando a massa reservada para testes\n",
    "clf_LR.fit(X_treino, y_treino)\n",
    "y_predicted = clf_LR.predict(X_teste)\n",
    "print(metrics.classification_report(y_teste.values,y_predicted,digits=4))\n",
    "f1.append(f1_score(y_teste, y_predicted, average='macro'))\n",
    "acuracia.append(accuracy_score(y_teste, y_predicted))"
   ]
  },
  {
   "cell_type": "code",
   "execution_count": 76,
   "metadata": {},
   "outputs": [
    {
     "name": "stdout",
     "output_type": "stream",
     "text": [
      "              precision    recall  f1-score   support\n",
      "\n",
      "     alegria     0.3548    0.3548    0.3548        31\n",
      "    desgosto     0.4500    0.4000    0.4235        45\n",
      "        medo     0.7333    0.5789    0.6471        38\n",
      "      neutro     0.6697    0.7935    0.7264        92\n",
      "       raiva     0.3500    0.5000    0.4118        14\n",
      "    surpresa     0.5625    0.4186    0.4800        43\n",
      "    tristeza     0.7308    0.7403    0.7355        77\n",
      "\n",
      "    accuracy                         0.6059       340\n",
      "   macro avg     0.5502    0.5409    0.5399       340\n",
      "weighted avg     0.6061    0.6059    0.6015       340\n",
      "\n"
     ]
    }
   ],
   "source": [
    "# Avalia a performance do classificador LR otimizado com RandomSearch, usando a massa reservada para testes\n",
    "clf_Best.fit(X_treino, y_treino)\n",
    "y_predicted = clf_Best.predict(X_teste)\n",
    "print(metrics.classification_report(y_teste.values,y_predicted, digits=4))\n",
    "f1.append(f1_score(y_teste, y_predicted, average='macro'))\n",
    "acuracia.append(accuracy_score(y_teste, y_predicted))"
   ]
  },
  {
   "cell_type": "code",
   "execution_count": 77,
   "metadata": {},
   "outputs": [
    {
     "data": {
      "image/png": "[encoded data removed]",
      "text/plain": [
       "<Figure size 432x288 with 1 Axes>"
      ]
     },
     "metadata": {
      "needs_background": "light"
     },
     "output_type": "display_data"
    }
   ],
   "source": [
    "#Imprime o gráfico de barras da acuracia\n",
    "classificadores = ['SGD', 'MLP', 'LR', 'Best-LR']\n",
    "barra= plt.bar(classificadores, acuracia, color=\"orange\")\n",
    "autolabel(barra)\n",
    "plt.xticks(classificadores)\n",
    "plt.ylabel('Acurácia')\n",
    "plt.xlabel('Classificador')\n",
    "plt.ylim(.5,.63)\n",
    "plt.title('Acurácia dos classificadores com dados de teste')\n",
    "plt.show()"
   ]
  },
  {
   "cell_type": "code",
   "execution_count": 78,
   "metadata": {},
   "outputs": [
    {
     "data": {
      "image/png": "[encoded data removed]",
      "text/plain": [
       "<Figure size 432x288 with 1 Axes>"
      ]
     },
     "metadata": {
      "needs_background": "light"
     },
     "output_type": "display_data"
    }
   ],
   "source": [
    "#Imprime o gráfico de barras do F1-macro\n",
    "barra=plt.bar(classificadores, f1, color=\"blue\")\n",
    "autolabel(barra)\n",
    "plt.xticks(classificadores)\n",
    "plt.ylabel('F1-macro')\n",
    "plt.xlabel('Classificador')\n",
    "plt.ylim(.4,.56)\n",
    "plt.title('F1-score macro dos classificadores com dados de teste')\n",
    "plt.show()"
   ]
  },
  {
   "cell_type": "markdown",
   "metadata": {},
   "source": [
    "## Classificando os registros não rotulados para o desafio\n"
   ]
  },
  {
   "cell_type": "code",
   "execution_count": 80,
   "metadata": {},
   "outputs": [],
   "source": [
    "#Abre dataset de predição\n",
    "df_class_final=pd.read_csv('teste-sem-classe.csv')"
   ]
  },
  {
   "cell_type": "code",
   "execution_count": 81,
   "metadata": {},
   "outputs": [
    {
     "name": "stdout",
     "output_type": "stream",
     "text": [
      "6092\n"
     ]
    }
   ],
   "source": [
    "#Limpa o texto\n",
    "df_class_final['texto'] = df_class_final['texto'].apply(limpar_texto)\n",
    "\n",
    "#Monta vocabulário completo\n",
    "for texto in df_class_final['texto']:\n",
    "    vocab.update(set(tokenizer.tokenize(texto)))  \n",
    "#Tamanho e exemplo do vocabulário\n",
    "print(len(vocab))"
   ]
  },
  {
   "cell_type": "code",
   "execution_count": 82,
   "metadata": {},
   "outputs": [
    {
     "name": "stdout",
     "output_type": "stream",
     "text": [
      "Média do tamanho dos textos (em palavras): 19.96 \n",
      "Mediana do tamanho dos textos (em palavras): 20.00 \n",
      "Desvio padrão do tamanho dos textos (em palavras): 3.71\n"
     ]
    }
   ],
   "source": [
    "#Métricas do tamanho dos textos depois da limpeza e tratamento\n",
    "tam_texto=[]\n",
    "for texto in df_class_final['texto']:\n",
    "    tam_texto.append(len(tokenizer.tokenize(texto)))\n",
    "print(\"Média do tamanho dos textos (em palavras): {0:.2f} \".format(statistics.mean(tam_texto)))\n",
    "print(\"Mediana do tamanho dos textos (em palavras): {0:.2f} \".format(statistics.median(tam_texto)))\n",
    "print(\"Desvio padrão do tamanho dos textos (em palavras): {0:.2f}\".format(statistics.stdev(tam_texto)))"
   ]
  },
  {
   "cell_type": "code",
   "execution_count": 83,
   "metadata": {},
   "outputs": [],
   "source": [
    "#Instancia o vetorizador TF*IDF, agora com o novo vocabulário\n",
    "vectorizer = TfidfVectorizer(ngram_range=(1, 1), vocabulary=vocab,sublinear_tf=True)\n",
    "#Vetoriza TF-IDF os dataframes completos e a classificar\n",
    "X=vectorizer.fit_transform(df['texto'])\n",
    "y=df['classe']\n",
    "X_final = vectorizer.fit_transform(df_class_final['texto'])"
   ]
  },
  {
   "cell_type": "code",
   "execution_count": 84,
   "metadata": {},
   "outputs": [
    {
     "data": {
      "text/plain": [
       "LogisticRegression(C=0.53933802025739, class_weight='balanced', dual=False,\n",
       "                   fit_intercept=True, intercept_scaling=0.678682297425889,\n",
       "                   l1_ratio=None, max_iter=100, multi_class='auto', n_jobs=None,\n",
       "                   penalty='l2', random_state=501, solver='lbfgs',\n",
       "                   tol=5.892886039498954e-05, verbose=0, warm_start=False)"
      ]
     },
     "execution_count": 84,
     "metadata": {},
     "output_type": "execute_result"
    }
   ],
   "source": [
    "#Retreina com a base completa\n",
    "clf_Best.fit(X, y)"
   ]
  },
  {
   "cell_type": "code",
   "execution_count": 94,
   "metadata": {},
   "outputs": [
    {
     "data": {
      "text/html": [
       "<div>\n",
       "<style scoped>\n",
       "    .dataframe tbody tr th:only-of-type {\n",
       "        vertical-align: middle;\n",
       "    }\n",
       "\n",
       "    .dataframe tbody tr th {\n",
       "        vertical-align: top;\n",
       "    }\n",
       "\n",
       "    .dataframe thead th {\n",
       "        text-align: right;\n",
       "    }\n",
       "</style>\n",
       "<table border=\"1\" class=\"dataframe\">\n",
       "  <thead>\n",
       "    <tr style=\"text-align: right;\">\n",
       "      <th></th>\n",
       "      <th>id</th>\n",
       "      <th>texto</th>\n",
       "    </tr>\n",
       "    <tr>\n",
       "      <th>classe</th>\n",
       "      <th></th>\n",
       "      <th></th>\n",
       "    </tr>\n",
       "  </thead>\n",
       "  <tbody>\n",
       "    <tr>\n",
       "      <th>alegria</th>\n",
       "      <td>25</td>\n",
       "      <td>25</td>\n",
       "    </tr>\n",
       "    <tr>\n",
       "      <th>desgosto</th>\n",
       "      <td>36</td>\n",
       "      <td>36</td>\n",
       "    </tr>\n",
       "    <tr>\n",
       "      <th>medo</th>\n",
       "      <td>32</td>\n",
       "      <td>32</td>\n",
       "    </tr>\n",
       "    <tr>\n",
       "      <th>neutro</th>\n",
       "      <td>87</td>\n",
       "      <td>87</td>\n",
       "    </tr>\n",
       "    <tr>\n",
       "      <th>raiva</th>\n",
       "      <td>23</td>\n",
       "      <td>23</td>\n",
       "    </tr>\n",
       "    <tr>\n",
       "      <th>surpresa</th>\n",
       "      <td>37</td>\n",
       "      <td>37</td>\n",
       "    </tr>\n",
       "    <tr>\n",
       "      <th>tristeza</th>\n",
       "      <td>60</td>\n",
       "      <td>60</td>\n",
       "    </tr>\n",
       "  </tbody>\n",
       "</table>\n",
       "</div>"
      ],
      "text/plain": [
       "          id  texto\n",
       "classe             \n",
       "alegria   25     25\n",
       "desgosto  36     36\n",
       "medo      32     32\n",
       "neutro    87     87\n",
       "raiva     23     23\n",
       "surpresa  37     37\n",
       "tristeza  60     60"
      ]
     },
     "execution_count": 94,
     "metadata": {},
     "output_type": "execute_result"
    }
   ],
   "source": [
    "#Realiza a previsão do dataset final\n",
    "df_class_final['classe'] = clf_Best.predict(X_final)\n",
    "df_class_final.groupby('classe').count()"
   ]
  },
  {
   "cell_type": "code",
   "execution_count": 86,
   "metadata": {},
   "outputs": [],
   "source": [
    "#Gera o csv final a ser enviado para o Desafio IA 2020 - Etapa PLN\n",
    "df_csv_final=df_class_final[['id', 'classe']]\n",
    "df_csv_final.to_csv('class_final.csv', index=False, encoding=\"utf-8\")"
   ]
  },
  {
   "cell_type": "code",
   "execution_count": null,
   "metadata": {},
   "outputs": [],
   "source": []
  }
 ],
 "metadata": {
  "kernelspec": {
   "display_name": "Python 3",
   "language": "python",
   "name": "python3"
  },
  "language_info": {
   "codemirror_mode": {
    "name": "ipython",
    "version": 3
   },
   "file_extension": ".py",
   "mimetype": "text/x-python",
   "name": "python",
   "nbconvert_exporter": "python",
   "pygments_lexer": "ipython3",
   "version": "3.7.6"
  }
 },
 "nbformat": 4,
 "nbformat_minor": 4
}
